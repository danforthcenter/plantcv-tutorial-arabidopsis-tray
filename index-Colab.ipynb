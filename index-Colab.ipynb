{
  "cells": [
    {
      "cell_type": "markdown",
      "id": "e2829d09",
      "metadata": {
        "id": "e2829d09"
      },
      "source": [
        "# Arabidopsis Multi-Plant Tutorial\n",
        "\n",
        "This is a fully-functioning workflow that demonstrates how to analyze the shape, size, and color of individual arabidopsis plants grown in a tray. Similar methods will work for other plant species imaged in this layout until the plants grow large enough to obscure each other.\n"
      ]
    },
    {
      "cell_type": "code",
      "source": [
        "# Install PlantCV and required dependencies\n",
        "%pip install \"altair>=5\" ipympl plantcv\n",
        "\n",
        "# Give access and mount your Google Drive (need a Google Account)\n",
        "# Change path to directory you wish output files to be saved to.\n",
        "from google.colab import drive\n",
        "drive.mount('/content/gdrive')\n",
        "\n",
        "# Enable widget feature with matplotlib\n",
        "from google.colab import output\n",
        "output.enable_custom_widget_manager()\n",
        "\n",
        "#View working directory, may need to change path\n",
        "%pwd"
      ],
      "metadata": {
        "id": "6pFLfx6lEV3O"
      },
      "execution_count": null,
      "outputs": [],
      "id": "6pFLfx6lEV3O"
    },
    {
      "cell_type": "code",
      "source": [
        "# Set the notebook display method\n",
        "%matplotlib widget"
      ],
      "metadata": {
        "id": "cb5b92d3"
      },
      "id": "cb5b92d3",
      "execution_count": null,
      "outputs": []
    },
    {
      "cell_type": "markdown",
      "id": "604065b5",
      "metadata": {
        "id": "604065b5"
      },
      "source": [
        "# Section 1: Importing Image and Libraries"
      ]
    },
    {
      "cell_type": "code",
      "execution_count": null,
      "id": "62ef791b",
      "metadata": {
        "id": "62ef791b"
      },
      "outputs": [],
      "source": [
        "# Import libraries\n",
        "from plantcv import plantcv as pcv\n",
        "from plantcv.parallel import WorkflowInputs\n",
        "pcv.__version__"
      ]
    },
    {
      "cell_type": "markdown",
      "id": "4468af74",
      "metadata": {
        "id": "4468af74"
      },
      "source": [
        "## Input/Ouput variables\n",
        "\n",
        "Using this while developing a workflow in Jupyter makes it easier to convert the workflow to a script later."
      ]
    },
    {
      "cell_type": "code",
      "execution_count": null,
      "id": "84e2e913",
      "metadata": {
        "id": "84e2e913"
      },
      "outputs": [],
      "source": [
        "# Input/output options\n",
        "args = WorkflowInputs(\n",
        "    images=[\"arabidopsis_tray.jpg\"],\n",
        "    names=\"image1\",\n",
        "    result=\"arabidopsis_results.json\",\n",
        "    outdir=\".\",\n",
        "    writeimg=True,\n",
        "    debug=\"plot\",\n",
        "    sample_label=\"genotype\"\n",
        "    )"
      ]
    },
    {
      "cell_type": "code",
      "execution_count": null,
      "id": "2b691f52",
      "metadata": {
        "id": "2b691f52"
      },
      "outputs": [],
      "source": [
        "# Set debug to the global parameter\n",
        "pcv.params.debug = args.debug\n",
        "\n",
        "# Set plotting size (default = 100)\n",
        "pcv.params.dpi = 100\n",
        "\n",
        "# Increase text size and thickness to make labels clearer\n",
        "# (size may need to be altered based on original image size)\n",
        "pcv.params.text_size = 10\n",
        "pcv.params.text_thickness = 20"
      ]
    },
    {
      "cell_type": "markdown",
      "id": "343a0816",
      "metadata": {
        "id": "343a0816"
      },
      "source": [
        "## Read the input image"
      ]
    },
    {
      "cell_type": "markdown",
      "source": [
        "### Google Colaboratory Users:\n",
        "If you are running this notebook using Google Colaboratory, you will need to use the cell below to complete the tutorial unless you cloned the repository from GitHub to your personal Google Drive account. Once you begin developing your workflow for your data, you can delete this text cell and the code cell below so you avoid any conflicts the next time you use this notebook."
      ],
      "metadata": {
        "id": "pnZYaudIgcHd"
      },
      "id": "pnZYaudIgcHd"
    },
    {
      "cell_type": "code",
      "source": [
        "img = pcv.io.open_url(url=\"https://raw.githubusercontent.com/danforthcenter/plantcv-tutorial-arabidopsis-tray/main/img/arabidopsis_tray.jpg\")"
      ],
      "metadata": {
        "id": "3ItGZYvOyOir"
      },
      "id": "3ItGZYvOyOir",
      "execution_count": null,
      "outputs": []
    },
    {
      "cell_type": "markdown",
      "source": [
        "### Local system use:\n",
        "If you have downloaded this notebook or the repository to your local device, then you will need to use the cell below to bring your image into the notebook. Do not run this line if you are navigating through the **tutorial** using Google Colaboratory.\n",
        "\n",
        "NOTE: *If you are developing your own workflow using this notebook, make sure you remove the code cell above with the URL and uncomment (remove the hashtag [#] to make the code active. This will call the image you defined during the Inputs/Outputs step.*"
      ],
      "metadata": {
        "id": "r8URuV3ZhALj"
      },
      "id": "r8URuV3ZhALj"
    },
    {
      "cell_type": "markdown",
      "source": [
        "### Reading images into your environment using *pcv.readimage()*\n",
        "Inputs:\n",
        "   * filename = Image file to be read in\n",
        "   * mode     = How the image will be read into the notebook; either 'native' (default), 'rgb', 'gray', 'csv', or 'envi'"
      ],
      "metadata": {
        "id": "Q4Na59TNNg1x"
      },
      "id": "Q4Na59TNNg1x"
    },
    {
      "cell_type": "code",
      "execution_count": null,
      "id": "03a085f7",
      "metadata": {
        "id": "03a085f7"
      },
      "outputs": [],
      "source": [
        "# img, path, filename = pcv.readimage(filename=args.image1)"
      ]
    },
    {
      "cell_type": "markdown",
      "id": "604cad59",
      "metadata": {
        "id": "604cad59"
      },
      "source": [
        "# Section 2: Segmenting plant from background and identifying plant object(s)\n"
      ]
    },
    {
      "cell_type": "markdown",
      "id": "464af171",
      "metadata": {
        "id": "464af171"
      },
      "source": [
        "## Visualize colorspaces\n",
        "\n",
        "The visualization tool converts the color image into HSV and LAB colorspaces\n",
        "and displays the grayscale channels in a matrix so that they can be\n",
        "visualized simultaneously. The idea is to select a channel that maximizes\n",
        "the difference between the plant and the background pixels."
      ]
    },
    {
      "cell_type": "code",
      "execution_count": null,
      "id": "9427a009",
      "metadata": {
        "id": "9427a009"
      },
      "outputs": [],
      "source": [
        "# Inputs:\n",
        "#   rbg_img = original image\n",
        "#   original_img = whether to includ the RGB image in the display:\n",
        "#                  True (default) or False\n",
        "colorspaces = pcv.visualize.colorspaces(rgb_img=img, original_img=False)"
      ]
    },
    {
      "cell_type": "markdown",
      "id": "261ed5ed",
      "metadata": {
        "id": "261ed5ed"
      },
      "source": [
        "## Convert the color image to grayscale\n",
        "\n",
        "Converts the input color image into the LAB colorspace\n",
        "and returns the A (green-magenta) channel as a grayscale\n",
        "image."
      ]
    },
    {
      "cell_type": "code",
      "execution_count": null,
      "id": "a6a01595",
      "metadata": {
        "id": "a6a01595"
      },
      "outputs": [],
      "source": [
        "# Inputs:\n",
        "#   rbg_img = original image\n",
        "#   channel = desired colorspace ('l', 'a', or 'b')\n",
        "a = pcv.rgb2gray_lab(rgb_img=img, channel='a')"
      ]
    },
    {
      "cell_type": "markdown",
      "id": "36c94ae6",
      "metadata": {
        "id": "36c94ae6"
      },
      "source": [
        "## Visualize the distribution of grayscale values\n",
        "\n",
        "A histogram can be used to visualize the distribution of values\n",
        "in an image. The histogram can aid in the selection of a\n",
        "threshold value. This is NOT helpful in parallel, only while building a workflow.\n",
        "\n",
        "For this image, the large peak between 100-140 are from the\n",
        "brighter background pixels. The smaller peak between 80-90\n",
        "are the darker plant pixels."
      ]
    },
    {
      "cell_type": "code",
      "execution_count": null,
      "id": "d6a9d108",
      "metadata": {
        "id": "d6a9d108"
      },
      "outputs": [],
      "source": [
        "hist = pcv.visualize.histogram(img=a, bins=25)"
      ]
    },
    {
      "cell_type": "markdown",
      "id": "c07e08db",
      "metadata": {
        "id": "c07e08db"
      },
      "source": [
        "## Threshold the grayscale image\n",
        "\n",
        "Use a threshold function (binary in this case) to segment the grayscale\n",
        "image into plant (white) and background (black) pixels. Using the\n",
        "histogram above, a threshold point between 90-110 will segment the\n",
        "plant and background peaks. Because the plants are the darker pixels\n",
        "in this image, use `object_type=\"dark\"` to do an inverse threshold."
      ]
    },
    {
      "cell_type": "code",
      "execution_count": null,
      "id": "e78e940e",
      "metadata": {
        "id": "e78e940e"
      },
      "outputs": [],
      "source": [
        "a_thresh = pcv.threshold.binary(gray_img=a, threshold=100, object_type='dark')"
      ]
    },
    {
      "cell_type": "markdown",
      "id": "178075a5",
      "metadata": {
        "id": "178075a5"
      },
      "source": [
        "## Remove small background noise\n",
        "\n",
        "Thresholding mostly labeled plant pixels white but also labeled\n",
        "small regions of the background white. The fill function removes\n",
        "\"salt\" noise from the background by filtering white regions by size."
      ]
    },
    {
      "cell_type": "code",
      "execution_count": null,
      "id": "41b9dadc",
      "metadata": {
        "scrolled": false,
        "id": "41b9dadc"
      },
      "outputs": [],
      "source": [
        "a_fill = pcv.fill(bin_img=a_thresh, size=200)"
      ]
    },
    {
      "cell_type": "markdown",
      "id": "4bca2233",
      "metadata": {
        "id": "4bca2233"
      },
      "source": [
        "# Section 3: Define a region of interest for each plant\n",
        "\n",
        "Use the automatic grid detection tool to define a region of interest (ROI) for each pot\n",
        "in the tray. Each ROI will be associated with a plant later. The ROIs\n",
        "do not need to completely contain a whole plant but must only overlap a\n",
        "single plant each."
      ]
    },
    {
      "cell_type": "code",
      "execution_count": null,
      "id": "5685d898",
      "metadata": {
        "id": "5685d898"
      },
      "outputs": [],
      "source": [
        "rois = pcv.roi.auto_grid(mask=a_fill, nrows=4, ncols=5, img=img)"
      ]
    },
    {
      "cell_type": "markdown",
      "id": "67f070fb",
      "metadata": {
        "id": "67f070fb"
      },
      "source": [
        "# Section 4: Create a labeled mask\n",
        "In order to measure each plant separately, rather than as one object of disconnected blobs, we must create a labeled masked where each plant has a specific pixel value even in the case of disconnected leaves in the binary mask.\n",
        "\n"
      ]
    },
    {
      "cell_type": "code",
      "execution_count": null,
      "id": "authorized-ghost",
      "metadata": {
        "id": "authorized-ghost"
      },
      "outputs": [],
      "source": [
        "# Create a labeled mask, this function works very similarly to the roi.filter step above\n",
        "labeled_mask, num_plants = pcv.create_labels(mask=a_fill, rois=rois, roi_type=\"partial\")\n"
      ]
    },
    {
      "cell_type": "markdown",
      "id": "major-monitor",
      "metadata": {
        "id": "major-monitor"
      },
      "source": [
        "# Section 5: Measure each plant\n"
      ]
    },
    {
      "cell_type": "code",
      "execution_count": null,
      "id": "d809d678",
      "metadata": {
        "id": "d809d678"
      },
      "outputs": [],
      "source": [
        "shape_img = pcv.analyze.size(img=img, labeled_mask=labeled_mask, n_labels=20)"
      ]
    },
    {
      "cell_type": "code",
      "execution_count": null,
      "id": "phantom-communist",
      "metadata": {
        "id": "phantom-communist"
      },
      "outputs": [],
      "source": [
        "shape_img = pcv.analyze.color(rgb_img=img, labeled_mask=labeled_mask, n_labels=20, colorspaces=\"HSV\")"
      ]
    },
    {
      "cell_type": "markdown",
      "id": "6f0d2f87",
      "metadata": {
        "id": "6f0d2f87"
      },
      "source": [
        "## Save the results\n",
        "\n",
        "During analysis, measurements are stored in the background in the `outputs` class.\n",
        "\n",
        "This example includes image analysis for 'area', 'convex_hull_area', 'solidity', 'perimeter', 'width', 'height', 'longest_path', 'center_of_mass, 'convex_hull_vertices', 'object_in_frame', 'ellipse_center', 'ellipse_major_axis', 'ellipse_minor_axis', 'ellipse_angle', 'ellipse_eccentricity' while using `pcv.analyze.size`. Plus we have color trait information also!\n"
      ]
    },
    {
      "cell_type": "code",
      "execution_count": null,
      "id": "f07819d3",
      "metadata": {
        "id": "f07819d3"
      },
      "outputs": [],
      "source": [
        "pcv.outputs.save_results(filename=args.result, outformat=\"json\")"
      ]
    },
    {
      "cell_type": "code",
      "execution_count": null,
      "id": "listed-declaration",
      "metadata": {
        "id": "listed-declaration"
      },
      "outputs": [],
      "source": []
    }
  ],
  "metadata": {
    "kernelspec": {
      "display_name": "Python (PlantCV)",
      "language": "python",
      "name": "plantcv"
    },
    "language_info": {
      "codemirror_mode": {
        "name": "ipython",
        "version": 3
      },
      "file_extension": ".py",
      "mimetype": "text/x-python",
      "name": "python",
      "nbconvert_exporter": "python",
      "pygments_lexer": "ipython3",
      "version": "3.9.15"
    },
    "colab": {
      "provenance": []
    }
  },
  "nbformat": 4,
  "nbformat_minor": 5
}